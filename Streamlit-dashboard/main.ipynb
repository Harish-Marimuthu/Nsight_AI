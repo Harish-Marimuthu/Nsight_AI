{
 "cells": [
  {
   "cell_type": "code",
   "execution_count": 10,
   "id": "bb18bc51",
   "metadata": {},
   "outputs": [],
   "source": [
    "import streamlit as st\n",
    "import fitz  # PyMuPDF\n",
    "from azure.storage.blob import BlobServiceClient\n",
    "from io import BytesIO\n",
    "import os\n",
    "from dotenv import load_dotenv\n",
    "\n",
    "load_dotenv()\n",
    "\n",
    "STORAGE_ACCOUNT_NAME = os.getenv(\"STORAGE_ACCOUNT_NAME\")\n",
    "STORAGE_ACCOUNT_KEY = os.getenv(\"STORAGE_ACCOUNT_KEY\")\n",
    "container_name = os.getenv(\"CONTAINER_NAME\")\n",
    "# os.path.join(os.getenv(\"CONTAINER_NAME\"), os.getenv(\"CONTAINER_PATH\"))\n",
    "# Azure setup\n",
    "\n",
    "connect_str = f\"DefaultEndpointsProtocol=https;AccountName={STORAGE_ACCOUNT_NAME};AccountKey={STORAGE_ACCOUNT_KEY};EndpointSuffix=core.windows.net\"\n",
    "# connect_str = st.secrets[\"AZURE_STORAGE_CONNECTION_STRING\"]\n",
    "# container_name = \"your-container\"\n",
    "blob_service_client = BlobServiceClient.from_connection_string(connect_str)\n",
    "container_client = blob_service_client.get_container_client(container_name)\n",
    "\n",
    "# Get all blobs (PDFs only)\n",
    "def list_pdfs():\n",
    "    return [blob.name for blob in container_client.list_blobs(name_starts_with=\"SAP_JSON/Invoice/\") if blob.name.endswith('.pdf') and not blob.name.startswith(\"processed/\")]\n",
    "\n",
    "def get_blob(blob_name):\n",
    "    blob_client = container_client.get_blob_client(blob_name)\n",
    "    return blob_client.download_blob().readall()\n",
    "\n",
    "def move_blob(blob_name, new_name):\n",
    "    source_url = f\"{blob_service_client.primary_endpoint}/{container_name}/{blob_name}\".replace('//', '/').replace('https:/', 'https://')\n",
    "    copied_blob = container_client.get_blob_client(f\"SAP_JSON/Bills/2025-04-27/{new_name}\")\n",
    "    copied_blob.start_copy_from_url(source_url)\n",
    "    container_client.delete_blob(blob_name)\n",
    "\n",
    "# PDF Renderer\n",
    "def render_pdf(data, page_num):\n",
    "    pdf = fitz.open(stream=data, filetype=\"pdf\")\n",
    "    if page_num >= len(pdf):\n",
    "        page_num = len(pdf) - 1\n",
    "    page = pdf.load_page(page_num)\n",
    "    pix = page.get_pixmap()\n",
    "    return pix.tobytes(\"png\")"
   ]
  },
  {
   "cell_type": "code",
   "execution_count": 12,
   "id": "07f581a1",
   "metadata": {},
   "outputs": [],
   "source": [
    "move_blob(r\"SAP_JSON/Bills/sharathhebbar24_gmail_com_cd3a32884f.pdf\", \"sharathhebbar24_gmail_com_cd3a32884f.pdf\")\n",
    "move_blob(r\"SAP_JSON/Bills/sharathhebbar24_gmail_com_B0001.pdf\", \"sharathhebbar24_gmail_com_B0001.pdf\")\n",
    "move_blob(r\"SAP_JSON/Bills/processed/sharathhebbar24_gmail_com_cd3a32884f.pdf\", \"sharathhebbar24_gmail_com_cd3a32884f.pdf\")\n",
    "move_blob(r\"SAP_JSON/Bills/processed/sharathhebbar24_gmail_com_B0001.pdf\", \"sharathhebbar24_gmail_com_B0001.pdf\")"
   ]
  },
  {
   "cell_type": "code",
   "execution_count": 25,
   "id": "43b7544d",
   "metadata": {},
   "outputs": [
    {
     "data": {
      "text/plain": [
       "['SAP_JSON/Invoice/invoice.pdf']"
      ]
     },
     "execution_count": 25,
     "metadata": {},
     "output_type": "execute_result"
    }
   ],
   "source": [
    "container_path = \"SAP_JSON/Invoice\"\n",
    "processed_path = container_path +\"/processed\" #os.path.join(container_path, \"processed\")\n",
    "[blob.name for blob in container_client.list_blobs(name_starts_with=container_path) if blob.name.endswith('.pdf') and not blob.name.startswith(processed_path)]"
   ]
  },
  {
   "cell_type": "code",
   "execution_count": 28,
   "id": "54bec687",
   "metadata": {},
   "outputs": [
    {
     "data": {
      "text/plain": [
       "'SAP_JSON/Invoice/processed/Flipkart.pdf'"
      ]
     },
     "execution_count": 28,
     "metadata": {},
     "output_type": "execute_result"
    }
   ],
   "source": [
    "import re\n",
    "sanitized_name = re.sub(r\"[^\\w\\-_.]\", \"_\", \"Flipkart.pdf\")\n",
    "f\"{processed_path}/{sanitized_name}\""
   ]
  },
  {
   "cell_type": "code",
   "execution_count": 14,
   "id": "b443a34d",
   "metadata": {},
   "outputs": [
    {
     "data": {
      "text/plain": [
       "'SAP_JSON/Invoice/processed/'"
      ]
     },
     "execution_count": 14,
     "metadata": {},
     "output_type": "execute_result"
    }
   ],
   "source": [
    "container_client.get_blob_client(f\"SAP_JSON/Invoice/processed/\").blob_name"
   ]
  },
  {
   "cell_type": "code",
   "execution_count": null,
   "id": "c8541111",
   "metadata": {},
   "outputs": [
    {
     "data": {
      "text/plain": [
       "'santhosh_s_leskode_com_LSK-INV2425-034.pdf'"
      ]
     },
     "execution_count": 15,
     "metadata": {},
     "output_type": "execute_result"
    }
   ],
   "source": [
    "from pathlib import Path\n",
    "Path(\"SAP_JSON/Invoice/santhosh_s_leskode_com_LSK-INV2425-034.pdf\").name"
   ]
  },
  {
   "cell_type": "code",
   "execution_count": null,
   "id": "c924c9f9",
   "metadata": {},
   "outputs": [],
   "source": []
  },
  {
   "cell_type": "code",
   "execution_count": 1,
   "id": "ff927363",
   "metadata": {},
   "outputs": [],
   "source": [
    "import os"
   ]
  },
  {
   "cell_type": "code",
   "execution_count": 2,
   "id": "b3995ab6",
   "metadata": {},
   "outputs": [],
   "source": [
    "import fitz  # PyMuPDF\n",
    "from azure.storage.blob import BlobServiceClient\n",
    "from io import BytesIO\n",
    "import os\n",
    "from dotenv import load_dotenv"
   ]
  },
  {
   "cell_type": "code",
   "execution_count": null,
   "id": "8efa6afb",
   "metadata": {},
   "outputs": [],
   "source": [
    "load_dotenv()\n",
    "\n",
    "STORAGE_ACCOUNT_NAME = os.getenv(\"STORAGE_ACCOUNT_NAME\")\n",
    "STORAGE_ACCOUNT_KEY = os.getenv(\"STORAGE_ACCOUNT_KEY\")\n",
    "container_name = \"mappings\" #os.path.join(os.getenv(\"CONTAINER_NAME\"), os.getenv(\"CONTAINER_PATH\"))\n",
    "# Azure setup\n",
    "\n",
    "connect_str = f\"DefaultEndpointsProtocol=https;AccountName={STORAGE_ACCOUNT_NAME};AccountKey={STORAGE_ACCOUNT_KEY};EndpointSuffix=core.windows.net\"\n",
    "# connect_str = st.secrets[\"AZURE_STORAGE_CONNECTION_STRING\"]\n",
    "# container_name = \"your-container\"\n",
    "blob_service_client = BlobServiceClient.from_connection_string(connect_str)\n",
    "container_client = blob_service_client.get_container_client(container_name)"
   ]
  },
  {
   "cell_type": "code",
   "execution_count": 8,
   "id": "66604ebb",
   "metadata": {},
   "outputs": [
    {
     "data": {
      "text/plain": [
       "'mappings'"
      ]
     },
     "execution_count": 8,
     "metadata": {},
     "output_type": "execute_result"
    }
   ],
   "source": [
    "container_name"
   ]
  },
  {
   "cell_type": "code",
   "execution_count": 13,
   "id": "59bfa63e",
   "metadata": {},
   "outputs": [
    {
     "data": {
      "text/plain": [
       "['SAP_JSON/Bills/santhosh_s_leskode_com_LSK-INV2425-034.pdf',\n",
       " 'SAP_JSON/Bills/sharathhebbar24_gmail_com_B0001.pdf',\n",
       " 'SAP_JSON/Bills/sharathhebbar24_gmail_com_cd3a32884f.pdf',\n",
       " 'SAP_JSON/Invoice/santhosh_s_leskode_com_LSK-INV2425-034.pdf',\n",
       " 'SAP_JSON/Invoice/santhosh_s_leskode_com_LSK-INV2425-039.pdf',\n",
       " 'SAP_JSON/PurchaseOrder/2025-04-14/dagarwal_nsight-inc_com_PO-00017.pdf',\n",
       " 'SAP_JSON/PurchaseOrder/dagarwal_nsight-inc_com_PO-00017.pdf',\n",
       " 'SAP_JSON/PurchaseOrder/sharathhebbar24_gmail_com_PO-00017.pdf',\n",
       " 'SAP_JSON/SalesOrder/santhosh_s_leskode_com_SO-000319.pdf',\n",
       " 'SAP_JSON/SalesOrder/sharathhebbar24_gmail_com_SO-00032.pdf']"
      ]
     },
     "execution_count": 13,
     "metadata": {},
     "output_type": "execute_result"
    }
   ],
   "source": [
    "[blob.name for blob in container_client.list_blobs() if blob.name.endswith('.pdf') and not blob.name.startswith(\"processed/\")]"
   ]
  },
  {
   "cell_type": "code",
   "execution_count": 15,
   "id": "61c9db96",
   "metadata": {},
   "outputs": [
    {
     "data": {
      "text/plain": [
       "['SAP_JSON/Bills/santhosh_s_leskode_com_LSK-INV2425-034.pdf',\n",
       " 'SAP_JSON/Bills/sharathhebbar24_gmail_com_B0001.pdf',\n",
       " 'SAP_JSON/Bills/sharathhebbar24_gmail_com_cd3a32884f.pdf',\n",
       " 'SAP_JSON/Invoice/santhosh_s_leskode_com_LSK-INV2425-034.pdf',\n",
       " 'SAP_JSON/Invoice/santhosh_s_leskode_com_LSK-INV2425-039.pdf',\n",
       " 'SAP_JSON/PurchaseOrder/2025-04-14/dagarwal_nsight-inc_com_PO-00017.pdf',\n",
       " 'SAP_JSON/PurchaseOrder/dagarwal_nsight-inc_com_PO-00017.pdf',\n",
       " 'SAP_JSON/PurchaseOrder/sharathhebbar24_gmail_com_PO-00017.pdf',\n",
       " 'SAP_JSON/SalesOrder/santhosh_s_leskode_com_SO-000319.pdf',\n",
       " 'SAP_JSON/SalesOrder/sharathhebbar24_gmail_com_SO-00032.pdf']"
      ]
     },
     "execution_count": 15,
     "metadata": {},
     "output_type": "execute_result"
    }
   ],
   "source": [
    "[\n",
    "    blob.name\n",
    "    for blob in container_client.list_blobs()\n",
    "    if blob.name.endswith(\".pdf\") and not blob.name.startswith(\"processed/\")\n",
    "]"
   ]
  },
  {
   "cell_type": "code",
   "execution_count": null,
   "id": "5ab3e0f7",
   "metadata": {},
   "outputs": [],
   "source": []
  }
 ],
 "metadata": {
  "kernelspec": {
   "display_name": "ivp",
   "language": "python",
   "name": "python3"
  },
  "language_info": {
   "codemirror_mode": {
    "name": "ipython",
    "version": 3
   },
   "file_extension": ".py",
   "mimetype": "text/x-python",
   "name": "python",
   "nbconvert_exporter": "python",
   "pygments_lexer": "ipython3",
   "version": "3.11.0"
  }
 },
 "nbformat": 4,
 "nbformat_minor": 5
}
